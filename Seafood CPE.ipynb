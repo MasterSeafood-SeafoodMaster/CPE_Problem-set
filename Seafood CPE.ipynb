{
 "cells": [
  {
   "cell_type": "markdown",
   "metadata": {},
   "source": [
    "# CPE ★ Problem Set"
   ]
  },
  {
   "cell_type": "markdown",
   "metadata": {},
   "source": [
    "# 6.1.1 What's Cryptanalysis?"
   ]
  },
  {
   "cell_type": "code",
   "execution_count": 119,
   "metadata": {},
   "outputs": [
    {
     "name": "stdout",
     "output_type": "stream",
     "text": [
      "2\n",
      "To be or not to be.\n",
      "I think, therefore I am.\n",
      "E 5\n",
      "O 5\n",
      "T 5\n",
      "I 3\n",
      "R 3\n",
      "B 2\n",
      "H 2\n",
      "N 2\n",
      "A 1\n",
      "F 1\n",
      "K 1\n",
      "M 1\n"
     ]
    }
   ],
   "source": [
    "#Q1\n",
    "#Input:\n",
    "#I1 = 2\n",
    "#I2 = To be or not to be.\n",
    "#I3 = I think, therefore I am.\n",
    "\"\"\"\n",
    "S0 = \"To be or not to be.I think, therefore I am.\"\n",
    "S = S0.upper()\n",
    "\"\"\"\n",
    "S = \"\"\n",
    "I1 = int(input())\n",
    "for i in range(I1):\n",
    "    I2 = str(input())\n",
    "    S += I2.upper()\n",
    "  \n",
    "l=0\n",
    "r=0\n",
    "Count=[]\n",
    "for w in range(ord('A'), ord('Z') + 1):\n",
    "    for i in S:\n",
    "        if i==chr(w):\n",
    "            r+=1\n",
    "            l+=1\n",
    "    Count.append(r)\n",
    "    r=0\n",
    "\n",
    "for i in range(l-1,-1,-1):\n",
    "    for w in range(ord('A'), ord('Z') + 1):\n",
    "        if (Count[w-65]==i) and i != 0:\n",
    "            print(chr(w),i)"
   ]
  },
  {
   "cell_type": "markdown",
   "metadata": {},
   "source": [
    "# 6.1.2 Decode the Mad Man"
   ]
  },
  {
   "cell_type": "code",
   "execution_count": 120,
   "metadata": {},
   "outputs": [
    {
     "name": "stdout",
     "output_type": "stream",
     "text": [
      "k[r dyt i[o\n",
      "how are you\n"
     ]
    }
   ],
   "source": [
    "#Q2\n",
    "#input:\n",
    "#I1:k[r dyt i[o\n",
    "\n",
    "S=str(input())\n",
    "dict = {'e':'q', 'r':'w', 't':'e', 'y':'r', 'u':'t', 'i':'y', 'o':'u', 'p':'i', '[':'o', ']':'p',\n",
    "        'd':'a', 'f':'s', 'g':'d', 'h':'f', 'j':'g', 'k':'h', 'l':'j', ';':'k', \"''\":'l',\n",
    "        'c':'z', 'v':'x', 'b':'c', 'n':'v', 'm':'b', ',':'n', '.':'m', ' ':' '}\n",
    "A=\"\"\n",
    "for i in S:\n",
    "    A+=dict[i]\n",
    "print(A)"
   ]
  },
  {
   "cell_type": "markdown",
   "metadata": {},
   "source": [
    "# 6.1.3 Problem J: Summing Digits"
   ]
  },
  {
   "cell_type": "code",
   "execution_count": 121,
   "metadata": {},
   "outputs": [
    {
     "name": "stdout",
     "output_type": "stream",
     "text": [
      "2\n",
      "11\n",
      "47\n",
      "1234567892\n",
      "0\n",
      "2\n",
      "2\n",
      "2\n",
      "2\n"
     ]
    }
   ],
   "source": [
    "#Q3\n",
    "#Input:\n",
    "#2\n",
    "#11\n",
    "#47\n",
    "#1234567892\n",
    "#0\n",
    "\n",
    "#位數加總\n",
    "def F(n):\n",
    "    if (n<1):\n",
    "        return 0\n",
    "    else:\n",
    "        return int((n%10)+F(n/10))\n",
    "#重複執行\n",
    "def g(n):\n",
    "    while n>=10:\n",
    "        n=F(n)\n",
    "    return(n)\n",
    "\n",
    "I=1\n",
    "Il=[]\n",
    "n=0\n",
    "while(I!=0):\n",
    "    I=int(input())\n",
    "    Il.append(I)\n",
    "    n+=1\n",
    "\n",
    "for i in range(n-1):\n",
    "    print(g(Il[i]))\n"
   ]
  },
  {
   "cell_type": "markdown",
   "metadata": {},
   "source": [
    "# 6.1.4 Common Permutation"
   ]
  },
  {
   "cell_type": "code",
   "execution_count": 106,
   "metadata": {},
   "outputs": [
    {
     "name": "stdout",
     "output_type": "stream",
     "text": [
      "e\n",
      "nw\n",
      "et\n"
     ]
    }
   ],
   "source": [
    "#Q4\n",
    "#input:\n",
    "S = \"\"\"pretty\n",
    "women\n",
    "walking\n",
    "down\n",
    "the\n",
    "street\"\"\"\n",
    "\n",
    "A = S.split(\"\\n\")\n",
    "\n",
    "x = []\n",
    "#分組\n",
    "for i in range(3):\n",
    "    a = A.pop(0)\n",
    "    b = A.pop(0)\n",
    "    x.append([a,b])\n",
    "\n",
    "for i in range(3):\n",
    "    a=x[i][0]\n",
    "    b=x[i][1]\n",
    "    A=\"\"\n",
    "    for w in range(ord('a'), ord('z') + 1):\n",
    "        if (a.find(chr(w))!=-1) and (b.find(chr(w))!=-1):\n",
    "            A+=chr(w)\n",
    "    print(A)"
   ]
  },
  {
   "cell_type": "markdown",
   "metadata": {},
   "source": [
    "# 6.1.5 Rotating Sentences"
   ]
  },
  {
   "cell_type": "code",
   "execution_count": 107,
   "metadata": {},
   "outputs": [
    {
     "name": "stdout",
     "output_type": "stream",
     "text": [
      "dMiST\n",
      "aosuh\n",
      "yt ni\n",
      ".h ds\n",
      " e a \n",
      " r y \n",
      " '   \n",
      " s   \n"
     ]
    }
   ],
   "source": [
    "#Q5\n",
    "#Input:\n",
    "S = \"\"\"This\n",
    "Sunday\n",
    "is\n",
    "Mother's\n",
    "day.\"\"\"\n",
    "\n",
    "\n",
    "\n",
    "A = S.split(\"\\n\")\n",
    "XMax = 0 #length\n",
    "YMax = len(A)\n",
    "for i in range(YMax):\n",
    "    if(len(A[i])>XMax): XMax=len(A[i])\n",
    "\n",
    "NewA=[[\" \"]*YMax for i in range(XMax)]\n",
    "\n",
    "\n",
    "k = YMax-1\n",
    "for i in range(YMax):\n",
    "    for j in range(len(A[i])):\n",
    "        NewA[j][k]=A[i][j]\n",
    "    k-=1\n",
    "    \n",
    "\n",
    "for i in range(XMax):\n",
    "    for j in range(YMax):\n",
    "        print(NewA[i][j], end=\"\")\n",
    "    print()    \n",
    "\n",
    "    "
   ]
  },
  {
   "cell_type": "markdown",
   "metadata": {},
   "source": [
    "# 6.1.6 TeX Quotes"
   ]
  },
  {
   "cell_type": "code",
   "execution_count": 108,
   "metadata": {},
   "outputs": [
    {
     "name": "stdout",
     "output_type": "stream",
     "text": [
      " ˋˋTo be or not to be,'' quoth the Bard, ˋˋthat is hte question''. \n",
      "The programming contestant replied: ˋˋI must disagree. To ˋC' or not to ˋC', that is the Question!!'' \n"
     ]
    }
   ],
   "source": [
    "#Q6\n",
    "#input\n",
    "S = \"\"\" \"To be or not to be,\" quoth the Bard, \"that is hte question\". \n",
    "The programming contestant replied: \"I must disagree. To ˋC' or not to ˋC', that is the Question!!\" \"\"\"\n",
    "\n",
    "\n",
    "Twice = True\n",
    "Num=0\n",
    "for i in S:\n",
    "    if i =='\"':\n",
    "        Num+=1\n",
    "\n",
    "for i in range(Num):\n",
    "    if i%2==0:\n",
    "        S = S.replace('\"',\"ˋˋ\",1)\n",
    "    else:\n",
    "        S = S.replace('\"',\"''\",1)\n",
    "\n",
    "print(S)\n",
    "\n",
    "            "
   ]
  },
  {
   "cell_type": "markdown",
   "metadata": {},
   "source": [
    "# 6.2.1 A-Doom's Day Algorithm"
   ]
  },
  {
   "cell_type": "code",
   "execution_count": 109,
   "metadata": {},
   "outputs": [
    {
     "name": "stdout",
     "output_type": "stream",
     "text": [
      "Thursday\n",
      "Monday\n",
      "Tuesday\n",
      "Thursday\n",
      "Monday\n",
      "Tuesday\n",
      "Sunday\n",
      "Saturday\n"
     ]
    }
   ],
   "source": [
    "#Q7\n",
    "#input\n",
    "I1 = 8\n",
    "In = [ [1,6],[2,28],[4,5],[5,26],[8,1],[11,1],[12,25],[12,31] ]\n",
    "\n",
    "Month = [0,31,28,31,30,31,30,31,31,30,31,30]\n",
    "Week = [\"Sunday\",\"Monday\",\"Tuesday\",\"Wednesday\",\"Thursday\",\"Friday\",\"Saturday\"]\n",
    "\n",
    "Day = 0\n",
    "for i in range(I1):\n",
    "    for j in range(In[i][0]):\n",
    "        Day += Month[j]\n",
    "    Day += In[i][1]    \n",
    "    print(Week[ (Day+5)%7 ])\n",
    "    Day=0\n"
   ]
  },
  {
   "cell_type": "markdown",
   "metadata": {},
   "source": [
    "# 6.2.2 Jolly Jumpers"
   ]
  },
  {
   "cell_type": "code",
   "execution_count": 110,
   "metadata": {},
   "outputs": [
    {
     "name": "stdout",
     "output_type": "stream",
     "text": [
      "Jolly\n",
      "Not jolly\n"
     ]
    }
   ],
   "source": [
    "#Q8\n",
    "#Input\n",
    "In= [ [4,3,2,5,3] , [5,1,7,2,3,6] ]\n",
    "\n",
    "Dk=[]\n",
    "reg=[]\n",
    "\n",
    "for i in range(len(In)):\n",
    "    for j in range(len(In[i])-1):\n",
    "        reg.append( abs( In[i][j]-In[i][j+1] ) )\n",
    "    Dk.append(reg)\n",
    "    reg=[]\n",
    "\n",
    "Jolly = True\n",
    "\n",
    "for i in range(len(Dk)):\n",
    "    for j in range(len(Dk[i])):\n",
    "        if Dk[i][j]>len(Dk[i]):\n",
    "            Jolly=False\n",
    "    if Jolly==False:\n",
    "        print(\"Not jolly\")\n",
    "    else:\n",
    "        print(\"Jolly\")\n"
   ]
  },
  {
   "cell_type": "markdown",
   "metadata": {},
   "source": [
    "# 6.2.3 What is the Probability!!"
   ]
  },
  {
   "cell_type": "code",
   "execution_count": 111,
   "metadata": {},
   "outputs": [
    {
     "name": "stdout",
     "output_type": "stream",
     "text": [
      "0.5455\n",
      "0.4545\n"
     ]
    }
   ],
   "source": [
    "#Q9\n",
    "#input\n",
    "I1 = 2\n",
    "In = [ [2,0.1666666,1] ,[ 2,0.1666666, 2]]\n",
    "\n",
    "for i in range(I1):\n",
    "    S = In[i][0] #總人數\n",
    "    P = In[i][1] #獲勝機率\n",
    "    N = In[i][2] #排序\n",
    "    \n",
    "    #P + P*(1-P)^S + P*(1-P)^2S + P*(1-P)^3S + ... * (1-P)^(N-1)= \n",
    "    #P*( 1 + (1-P)^S + P*(1-P)^2S + P*(1-P)^3S + ...)*(1-P)^(N-1)\n",
    "    \n",
    "    r = (1-P)**S\n",
    "    A = P*( 1/ (1-r) ) * ( (1-P)**(N-1) )\n",
    "    print('%.4f'% A)"
   ]
  },
  {
   "cell_type": "markdown",
   "metadata": {},
   "source": [
    "# 6.2.4 The Hotel with Infinite Rooms"
   ]
  },
  {
   "cell_type": "code",
   "execution_count": 112,
   "metadata": {},
   "outputs": [
    {
     "name": "stdout",
     "output_type": "stream",
     "text": [
      "3\n",
      "5\n",
      "6\n"
     ]
    }
   ],
   "source": [
    "#Q10\n",
    "#input\n",
    "In = [ [1,6], [3,10], [3,14] ]\n",
    "\n",
    "for i in range(len(In)):\n",
    "    F = In[i][0] #首日人數\n",
    "    D = In[i][1] #第幾天\n",
    "    S = 0 #總天數\n",
    "    while(D>S):\n",
    "        S+=F\n",
    "        F+=1\n",
    "    print(F-1)"
   ]
  },
  {
   "cell_type": "markdown",
   "metadata": {},
   "source": [
    "# 6.2.5 498'"
   ]
  },
  {
   "cell_type": "code",
   "execution_count": 113,
   "metadata": {},
   "outputs": [
    {
     "name": "stdout",
     "output_type": "stream",
     "text": [
      "1.0\n",
      "5.0\n"
     ]
    }
   ],
   "source": [
    "#Q11\n",
    "#input\n",
    "#x1=7\n",
    "#a1=[1, -1]\n",
    "#x2=2\n",
    "#a2=[1, 1, 1]\n",
    "\n",
    "In = [ 7, [1,-1], 2, [1,1,1] ]\n",
    "\n",
    "N = len(In)//2\n",
    "\n",
    "for i in range(N):\n",
    "    X = In.pop(0) #x值\n",
    "    An = In.pop(0) #係數\n",
    "    n = len(An) #項數\n",
    "    cnt = n\n",
    "    Ans = 0\n",
    "    for j in range(n):\n",
    "        cnt-=1\n",
    "        Ans += An[j]*cnt*(X**(cnt-1))\n",
    "    print(Ans)"
   ]
  },
  {
   "cell_type": "markdown",
   "metadata": {},
   "source": [
    "# 6.2.6 Odd Sum"
   ]
  },
  {
   "cell_type": "code",
   "execution_count": 114,
   "metadata": {},
   "outputs": [
    {
     "name": "stdout",
     "output_type": "stream",
     "text": [
      "8\n",
      "24\n"
     ]
    }
   ],
   "source": [
    "#Q12\n",
    "#input\n",
    "#I1 = 2\n",
    "#I2 = [2, 2]\n",
    "#I3 = [3, 9]\n",
    "\n",
    "In = [2, [2, 5], [3, 9]]\n",
    "N = In.pop(0)\n",
    "\n",
    "for i in range(N):\n",
    "    I = In.pop(0)\n",
    "    Ans = 0\n",
    "    for i in range(I[0],I[1]+1):\n",
    "        if i%2==1:\n",
    "            Ans+=i\n",
    "    print(Ans)\n",
    "    Ans=0"
   ]
  },
  {
   "cell_type": "markdown",
   "metadata": {},
   "source": [
    "# 6.2.7 Beat the Spread!"
   ]
  },
  {
   "cell_type": "code",
   "execution_count": 115,
   "metadata": {},
   "outputs": [
    {
     "name": "stdout",
     "output_type": "stream",
     "text": [
      "30 10\n",
      "impossible\n"
     ]
    }
   ],
   "source": [
    "#Q13\n",
    "#input\n",
    "#I1 = 2\n",
    "#I2 = [40, 20]\n",
    "#I3 = [20, 40]\n",
    "\n",
    "In = [2, [40, 20], [20, 40]]\n",
    "N = In.pop(0)\n",
    "\n",
    "for i in range(N):\n",
    "    I = In.pop(0)\n",
    "    A = (I[0]+I[1])//2\n",
    "    B = I[0]-A\n",
    "    if (A<0)or(B<0):\n",
    "        print('impossible')\n",
    "    else:\n",
    "        print(A,B)"
   ]
  },
  {
   "cell_type": "markdown",
   "metadata": {},
   "source": [
    "# 6.2.8 Symmetric Matrix"
   ]
  },
  {
   "cell_type": "code",
   "execution_count": 116,
   "metadata": {},
   "outputs": [
    {
     "name": "stdout",
     "output_type": "stream",
     "text": [
      "Symmetric\n",
      "Non-symmetric\n"
     ]
    }
   ],
   "source": [
    "#Q14\n",
    "#Input\n",
    "#I1 = 2\n",
    "#I2 =  [3, [1, 0, 6], [3, 8, 3], [6, 0, 1] ]\n",
    "#I3 =  [3, [1, 0, 6], [9, 8, 3], [6, 7, 1] ]\n",
    "\n",
    "In = [2, [3, [1, 0, 6], [3, 8, 3], [6, 0, 1] ], [3, [1, 0, 6], [9, 8, 3], [6, 7, 1] ]]\n",
    "\n",
    "N = In.pop(0)\n",
    "Sym = True #是否對稱\n",
    "for i in range(N):\n",
    "    n = In[0].pop(0) #nxn\n",
    "    M = In.pop(0)\n",
    "    T = n**2//2+1\n",
    "    for j in range(T):\n",
    "        c = j//n #col\n",
    "        r = j%n #row\n",
    "        if M[c][r]!=M[n-1-c][n-1-r]:\n",
    "            Sym = False\n",
    "            break\n",
    "\n",
    "    if Sym==True:\n",
    "        print('Symmetric')\n",
    "    else:\n",
    "        print('Non-symmetric')\n",
    "\n"
   ]
  },
  {
   "cell_type": "markdown",
   "metadata": {},
   "source": [
    "# 6.2.9 Square Numbers "
   ]
  },
  {
   "cell_type": "code",
   "execution_count": 117,
   "metadata": {},
   "outputs": [
    {
     "name": "stdout",
     "output_type": "stream",
     "text": [
      "2\n",
      "3\n"
     ]
    }
   ],
   "source": [
    "#Q15\n",
    "#Input\n",
    "#I1 = [1, 4]\n",
    "#I2 = [1, 10]\n",
    "#I3 = [0, 0]\n",
    "\n",
    "In = [ [1, 4], [1, 10], [0, 0] ]\n",
    "\n",
    "while(True):\n",
    "    I = In.pop(0)\n",
    "    L = I.pop(0)\n",
    "    H = I.pop(0)\n",
    "    if (L==0)and(H==0): break\n",
    "    Ans = 0\n",
    "    for i in range(L,H+1):\n",
    "        if (i**2<=H+1):\n",
    "            Ans+=1\n",
    "        else:\n",
    "            break\n",
    "    print(Ans)"
   ]
  },
  {
   "cell_type": "markdown",
   "metadata": {},
   "source": [
    "# 6.2.10 B2-Sequence"
   ]
  },
  {
   "cell_type": "code",
   "execution_count": 118,
   "metadata": {},
   "outputs": [
    {
     "name": "stdout",
     "output_type": "stream",
     "text": [
      "It is a B2-Sequence\n",
      "It is not a B2-Sequence\n"
     ]
    }
   ],
   "source": [
    "#Q16\n",
    "#input\n",
    "#I1 = [ 4, [1, 2, 4, 8] ]\n",
    "#I2 = [ 4, [3, 7, 10, 14] ]\n",
    "\n",
    "In = [ 4, [1, 2, 4, 8], 4, [3, 7, 10, 14] ]\n",
    "N = len(In)//2\n",
    "\n",
    "B2 = True\n",
    "for i in range(N):\n",
    "    n = In.pop(0)\n",
    "    S = In.pop(0)\n",
    "    A=[]\n",
    "    for j in range(n-1,-1,-1):\n",
    "        for k in range(j,-1,-1):\n",
    "            r = S[j]+S[k]\n",
    "            if r not in A:\n",
    "                A.append(r)\n",
    "            else:\n",
    "                B2=False\n",
    "                break\n",
    "                \n",
    "    if B2:\n",
    "        print('It is a B2-Sequence')\n",
    "    else:\n",
    "        print('It is not a B2-Sequence')"
   ]
  },
  {
   "cell_type": "markdown",
   "metadata": {},
   "source": [
    "# 6.2.11 Back to High School Physics"
   ]
  },
  {
   "cell_type": "code",
   "execution_count": 119,
   "metadata": {},
   "outputs": [
    {
     "name": "stdout",
     "output_type": "stream",
     "text": [
      "0\n",
      "120\n"
     ]
    }
   ],
   "source": [
    "#Q17\n",
    "#input\n",
    "#I1 = [0, 0]\n",
    "#I2 = [5, 12]\n",
    "\n",
    "In = [ [0, 0], [5, 12] ]\n",
    "N = (len(In))\n",
    "\n",
    "for i in range(N):\n",
    "    I = In.pop(0)\n",
    "    v = I.pop(0)\n",
    "    t = I.pop(0)\n",
    "    print(2*v*t)"
   ]
  },
  {
   "cell_type": "markdown",
   "metadata": {},
   "source": [
    "# 6.3.1 An Easy Problem!"
   ]
  },
  {
   "cell_type": "code",
   "execution_count": 120,
   "metadata": {},
   "outputs": [
    {
     "name": "stdout",
     "output_type": "stream",
     "text": [
      "8\n",
      "5\n",
      "such number is impossible!\n",
      "56\n",
      "56\n"
     ]
    }
   ],
   "source": [
    "#Q18\n",
    "#input\n",
    "#I1 = 7\n",
    "#I2 = 13\n",
    "#I3 = 2y\n",
    "#I4 = arping\n",
    "#I5 = Arping\n",
    "\n",
    "In = [ '7', '13', '2y','arping', 'Arping' ]\n",
    "N = (len(In)) \n",
    "\n",
    "#建立對照表\n",
    "Words = \"0123456789ABCDEFGHIJKLMNOPQRSTUVWXYZabcdefghijklmnopqrstuvwxyz\"\n",
    "dict = {}\n",
    "n=0\n",
    "for i in Words:\n",
    "    dict[i]=n\n",
    "    n+=1\n",
    "\n",
    "for i in range(N):\n",
    "    reg=[]\n",
    "    Sum=0\n",
    "    Max=0\n",
    "    Compute=False\n",
    "    for j in In[i]:\n",
    "        reg.append(dict[j])\n",
    "        if Max<dict[j]: Max=dict[j]\n",
    "\n",
    "    L = len(reg)\n",
    "    xn = L-1\n",
    "    for j in range(Max+1,61):\n",
    "        for k in range(L): #進制總和計算\n",
    "            Sum+=(j**xn)*reg[k]\n",
    "        \n",
    "        \n",
    "        if (j-1>0)and(Sum%(j-1)==0):\n",
    "            print(j)\n",
    "            Compute=True\n",
    "            break\n",
    "    if Compute == False:\n",
    "        print(\"such number is impossible!\")\n",
    "        \n",
    "# 'Arping'(56) = 376782112575\n",
    "# 376782112575/55 = 6850583865\n"
   ]
  },
  {
   "cell_type": "markdown",
   "metadata": {},
   "source": [
    "# 6.3.2 Fibonaccimal Base"
   ]
  },
  {
   "cell_type": "code",
   "execution_count": 122,
   "metadata": {},
   "outputs": [
    {
     "name": "stdout",
     "output_type": "stream",
     "text": [
      "1 = 1(fib)\n",
      "2 = 10(fib)\n",
      "3 = 100(fib)\n",
      "4 = 101(fib)\n"
     ]
    }
   ],
   "source": [
    "#Q19\n",
    "#Input\n",
    "I1 = 4\n",
    "In = [1,2,3,4]\n",
    "\n",
    "#建構費波納契數列\n",
    "F = []\n",
    "a = 1\n",
    "b= 0\n",
    "for i in range(0,40):\n",
    "    F.append(b)\n",
    "    a, b = b, a+b\n",
    "F.pop(0)\n",
    "F.pop(0)\n",
    "Fl=len(F)\n",
    "\n",
    "Start=False\n",
    "for i in range(I1):\n",
    "    N = In[i]\n",
    "    print(N,'=',end=' ')\n",
    "    for j in range(Fl-1,-1,-1):  \n",
    "        if F[j]<=N:\n",
    "            N-=F[j]\n",
    "            print(1, end='')\n",
    "            Start=True\n",
    "        elif Start==True:\n",
    "            print(0, end='')\n",
    "    Start=False     \n",
    "\n",
    "    print('(fib)')\n"
   ]
  },
  {
   "cell_type": "markdown",
   "metadata": {},
   "source": [
    "# 6.3.3 Funny Encryption Method"
   ]
  },
  {
   "cell_type": "code",
   "execution_count": 123,
   "metadata": {},
   "outputs": [
    {
     "name": "stdout",
     "output_type": "stream",
     "text": [
      "6 4\n",
      "5 3\n"
     ]
    }
   ],
   "source": [
    "#Q20\n",
    "#Input:\n",
    "#I1 = 2\n",
    "#I2 = 63\n",
    "#I3 = 214\n",
    "\n",
    "In = [ 2, 63, 214 ]\n",
    "N = In.pop(0)\n",
    "\n",
    "def Numof1(v):\n",
    "    if v==0: \n",
    "        return 0\n",
    "    else:\n",
    "        return v%2 + Numof1(v//2)\n",
    "    \n",
    "for i in range(N):\n",
    "    I=In[i]\n",
    "    n=Numof1(I)\n",
    "    print(n,end=\" \")\n",
    "    if I>=10:\n",
    "        n=0\n",
    "        for j in str(I):\n",
    "            n+=Numof1(int(j))\n",
    "        print(n)"
   ]
  },
  {
   "cell_type": "markdown",
   "metadata": {},
   "source": [
    "# 6.3.4 Parity"
   ]
  },
  {
   "cell_type": "code",
   "execution_count": 124,
   "metadata": {},
   "outputs": [
    {
     "name": "stdout",
     "output_type": "stream",
     "text": [
      "The parity of 1 is 1 (mod2)\n",
      "The parity of 10 is 2 (mod2)\n",
      "The parity of 1010 is 10 (mod2)\n",
      "The parity of 10101 is 21 (mod2)\n"
     ]
    }
   ],
   "source": [
    "#Q21\n",
    "#Input:\n",
    "In = [ 1, 2, 10, 21, 0 ]\n",
    "\n",
    "while(True):\n",
    "    I = In.pop(0)\n",
    "    Ib = bin(I)[2:]\n",
    "    if(I==0): break\n",
    "    print(\"The parity of\",Ib,\"is\",I,\"(mod2)\")"
   ]
  },
  {
   "cell_type": "markdown",
   "metadata": {},
   "source": [
    "# 6.3.5 Cheapest Base"
   ]
  },
  {
   "cell_type": "code",
   "execution_count": 125,
   "metadata": {},
   "outputs": [
    {
     "name": "stdout",
     "output_type": "stream",
     "text": [
      "Case 1\n",
      "Cheapest base(s) for number 43 : 22 24 25 31 36 \n",
      "Cheapest base(s) for number 58 : 8 20 23 \n",
      "Cheapest base(s) for number 62 : 33 \n",
      "Cheapest base(s) for number 74 : 10 28 31 \n",
      "\n",
      "Case 2\n",
      "Cheapest base(s) for number 0 : 2 3 4 5 6 7 8 9 10 11 12 13 14 15 16 17 18 19 20 21 22 23 24 25 26 27 28 29 30 31 32 33 34 35 36 \n",
      "Cheapest base(s) for number 128 : 12 13 14 15 16 17 18 19 20 21 22 23 24 25 26 27 28 29 30 31 32 33 34 35 36 \n",
      "Cheapest base(s) for number 1234554321 : 33 34 35 36 \n",
      "\n"
     ]
    }
   ],
   "source": [
    "#Q22\n",
    "#Input:\n",
    "In = [ 2, \n",
    "     [6,3,4,5,4,6,6,3,7,\n",
    "     6,6,7,3,4,6,5,6,5,\n",
    "     3,3,5,3,7,6,5,5,6,\n",
    "     6,5,3,4,4,7,6,4,5],\n",
    "     4,  \n",
    "     [43, 58, 62, 74],\n",
    "     \n",
    "      [128,128,128,128,128,128,128,128,128,\n",
    "      128,128,128,128,128,128,128,128,128,\n",
    "      128,128,128,128,128,128,128,128,128,\n",
    "      128,128,128,128,128,128,128,128,128],\n",
    "      3,\n",
    "      [0, 128, 1234554321]\n",
    "     ]\n",
    "#建立進制轉換函式\n",
    "def TtoN(N, D):#(數字, 進制)\n",
    "    if N == 0:\n",
    "        return \"\"\n",
    "    else:\n",
    "        return str((N%D))+\" \"+str(TtoN(N//D,D))#每個數字用空格隔開\n",
    "\n",
    "\n",
    "N = In.pop(0)\n",
    "for i in range(N):\n",
    "    print(\"Case\",i+1)\n",
    "    Dict = In.pop(0) #對照表\n",
    "    Qn = In.pop(0) #問題個數\n",
    "    Qs = In.pop(0) #問題串列\n",
    "    for j in range(Qn):\n",
    "        Q = Qs.pop(0) #問題\n",
    "        min = 999999\n",
    "        for k in range(35):#找出最低消耗\n",
    "            Cost = 0\n",
    "            Ans=\"\"\n",
    "            Qt=TtoN(Q,k+2) #從二進制開始\n",
    "            Vec=Qt.split(\" \")\n",
    "            for l in range(len(Vec)-1):\n",
    "                Cost+=Dict[int(Vec[l])]\n",
    "            if min>Cost:\n",
    "                min=Cost\n",
    "        print(\"Cheapest base(s) for number\",Q,\": \",end=\"\")\n",
    "        for k in range(35): #印出所有最低消耗進制\n",
    "            Cost = 0\n",
    "            Ans=\"\"\n",
    "            Qt=TtoN(Q,k+2) #從二進制開始\n",
    "            Vec=Qt.split(\" \")\n",
    "            for l in range(len(Vec)-1):\n",
    "                Cost+=Dict[int(Vec[l])]\n",
    "            if Cost == min:\n",
    "                print(k+2,end=\" \")\n",
    "        print()\n",
    "    print()"
   ]
  },
  {
   "cell_type": "markdown",
   "metadata": {},
   "source": [
    "# 6.4.1 Hartals"
   ]
  },
  {
   "cell_type": "code",
   "execution_count": 126,
   "metadata": {},
   "outputs": [
    {
     "name": "stdout",
     "output_type": "stream",
     "text": [
      "5\n",
      "15\n"
     ]
    }
   ],
   "source": [
    "#Q23\n",
    "#Input:\n",
    "In = [2,\n",
    "     14,3,\n",
    "     [3, 4, 8],\n",
    "      \n",
    "     100,4,\n",
    "     [12,15,25,40]]\n",
    "N = In.pop(0)\n",
    "\n",
    "for i in range(N):\n",
    "    D = In.pop(0) #天數\n",
    "    G = In.pop(0) #政黨數\n",
    "    Fs = In.pop(0) #罷工頻率串列\n",
    "    C = [] #日曆\n",
    "    for j in range(D): #建立空日曆\n",
    "        C.append(0)\n",
    "        \n",
    "    for j in range(G):\n",
    "        F = Fs.pop(0) #頻率\n",
    "        for k in range(1,1+D):\n",
    "            if k%F==0:\n",
    "                C[k-1]=1 \n",
    "    for j in range(D): #減去週五週六\n",
    "        if (j%7==5)or(j%7==6): \n",
    "            C[j]=0 \n",
    "            \n",
    "    print(sum(C))"
   ]
  },
  {
   "cell_type": "markdown",
   "metadata": {},
   "source": [
    "# 6.4.2 All You Need Is Love!"
   ]
  },
  {
   "cell_type": "code",
   "execution_count": 164,
   "metadata": {},
   "outputs": [
    {
     "name": "stdout",
     "output_type": "stream",
     "text": [
      "Pair #1: All you need is love!\n",
      "Pair #2: Love is not all you need!\n",
      "Pair #3: Love is not all you need!\n",
      "Pair #4: All you need is love!\n",
      "Pair #5: All you need is love!\n"
     ]
    }
   ],
   "source": [
    "#Q24\n",
    "#Input:\n",
    "In = [5,\n",
    "     [11011, 11000],\n",
    "     [11011, 11001],\n",
    "     [111111,100],\n",
    "     [1000000000,110],\n",
    "     [1010,100]]\n",
    "\n",
    "def BtoT (v): #定義函式(二進位轉十進位)\n",
    "    if v==0:\n",
    "        return 0\n",
    "    else:\n",
    "        return ( (v%10)+BtoT(v//10) )*2\n",
    "\n",
    "N=In.pop(0)\n",
    "for i in range(N):\n",
    "    print(\"Pair #\",i+1,\":\",sep='',end=\" \")\n",
    "    Love = False\n",
    "    S=In.pop(0)\n",
    "    S1=BtoT(S.pop(0))//2\n",
    "    S2=BtoT(S.pop(0))//2\n",
    "    if S1>S2: R=S2\n",
    "    else: R=S1\n",
    "        \n",
    "    for j in range(2,R):\n",
    "        if S1%j+S2%j==0:\n",
    "            Love = True\n",
    "            break\n",
    "    \n",
    "    if Love: print(\"All you need is love!\")\n",
    "    else:  print(\"Love is not all you need!\")       "
   ]
  },
  {
   "cell_type": "markdown",
   "metadata": {},
   "source": [
    "# 6.4.3 Divide, But Not Quite Conquer!"
   ]
  },
  {
   "cell_type": "code",
   "execution_count": 170,
   "metadata": {},
   "outputs": [
    {
     "name": "stdout",
     "output_type": "stream",
     "text": [
      "125 25 5 1 \n",
      "Boring!\n",
      "Boring!\n",
      "81 27 9 3 1 \n"
     ]
    }
   ],
   "source": [
    "#Q25\n",
    "#input:\n",
    "In = [[125, 5],\n",
    "      [30, 3],\n",
    "      [80, 2],\n",
    "      [81, 3]]\n",
    "N=len(In)\n",
    "\n",
    "for i in range(N):\n",
    "    Is = In.pop(0)\n",
    "    I = Is.pop(0)\n",
    "    d = Is.pop(0)\n",
    "    Boring = False\n",
    "    Ans=[]\n",
    "    while(True):\n",
    "        if I==1:\n",
    "            Ans.append(I)\n",
    "            break\n",
    "        elif I%d==0:\n",
    "            Ans.append(I)\n",
    "            I = I//d\n",
    "        else:\n",
    "            Boring =True\n",
    "            break\n",
    "    if Boring:\n",
    "        print(\"Boring!\")\n",
    "    else:\n",
    "        for j in range(len(Ans)):\n",
    "            print(Ans[j],end=' ')\n",
    "        print()"
   ]
  },
  {
   "cell_type": "markdown",
   "metadata": {},
   "source": [
    "# 6.4.4 Simply Emirp"
   ]
  },
  {
   "cell_type": "code",
   "execution_count": null,
   "metadata": {},
   "outputs": [],
   "source": []
  }
 ],
 "metadata": {
  "kernelspec": {
   "display_name": "Python 3",
   "language": "python",
   "name": "python3"
  },
  "language_info": {
   "codemirror_mode": {
    "name": "ipython",
    "version": 3
   },
   "file_extension": ".py",
   "mimetype": "text/x-python",
   "name": "python",
   "nbconvert_exporter": "python",
   "pygments_lexer": "ipython3",
   "version": "3.7.4"
  }
 },
 "nbformat": 4,
 "nbformat_minor": 2
}
